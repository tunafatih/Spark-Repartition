{
 "cells": [
  {
   "cell_type": "code",
   "execution_count": 12,
   "metadata": {},
   "outputs": [],
   "source": [
    "from pyspark.sql import SparkSession\n",
    "spark = SparkSession.builder.getOrCreate()"
   ]
  },
  {
   "cell_type": "code",
   "execution_count": 13,
   "metadata": {},
   "outputs": [],
   "source": [
    "min_date = '20180101'"
   ]
  },
  {
   "cell_type": "code",
   "execution_count": 14,
   "metadata": {},
   "outputs": [],
   "source": [
    "customers_dataset = spark.read.format(\"csv\").option(\"header\", \"true\").load(\"source_data/olist_customers_dataset.csv\")\n",
    "order_items_dataset = spark.read.format(\"csv\").option(\"header\", \"true\").load(\"source_data/olist_order_items_dataset.csv\")\n",
    "orders_dataset = spark.read.format(\"csv\").option(\"header\", \"true\").load(\"source_data/olist_orders_dataset.csv\")\n",
    "products_dataset = spark.read.format(\"csv\").option(\"header\", \"true\").load(\"source_data/olist_products_dataset.csv\")\n",
    "sellers_dataset = spark.read.format(\"csv\").option(\"header\", \"true\").load(\"source_data/olist_sellers_dataset.csv\")"
   ]
  },
  {
   "cell_type": "code",
   "execution_count": 15,
   "metadata": {},
   "outputs": [],
   "source": [
    "customers_dataset.createOrReplaceTempView('Customers')\n",
    "order_items_dataset.createOrReplaceTempView('Order_Items')\n",
    "orders_dataset.createOrReplaceTempView('Orders')\n",
    "products_dataset.createOrReplaceTempView('Products')\n",
    "sellers_dataset.createOrReplaceTempView('Sellers')\n"
   ]
  },
  {
   "cell_type": "code",
   "execution_count": 16,
   "metadata": {},
   "outputs": [],
   "source": [
    "customers_dataset = customers_dataset.repartition(2400,customers_dataset.customer_id)"
   ]
  },
  {
   "cell_type": "code",
   "execution_count": 17,
   "metadata": {},
   "outputs": [],
   "source": [
    "order_items_dataset = order_items_dataset.repartition(2400,order_items_dataset.order_id)"
   ]
  },
  {
   "cell_type": "code",
   "execution_count": 18,
   "metadata": {},
   "outputs": [],
   "source": [
    "orders_dataset = orders_dataset.repartition(2400,orders_dataset.customer_id,orders_dataset.order_id)"
   ]
  },
  {
   "cell_type": "code",
   "execution_count": 19,
   "metadata": {},
   "outputs": [],
   "source": [
    "order_information = orders_dataset.join(customers_dataset,(customers_dataset.customer_id==orders_dataset.customer_id),'inner')\\\n",
    "    .join(order_items_dataset,(order_items_dataset.order_id == orders_dataset.order_id),'inner')\\\n",
    "    .select(orders_dataset.order_id,\\\n",
    "           order_items_dataset.product_id,\\\n",
    "           order_items_dataset.seller_id,\\\n",
    "           orders_dataset.customer_id,\\\n",
    "           customers_dataset.customer_unique_id,\\\n",
    "           customers_dataset.customer_city,\\\n",
    "           orders_dataset.order_purchase_timestamp)"
   ]
  },
  {
   "cell_type": "code",
   "execution_count": 20,
   "metadata": {},
   "outputs": [],
   "source": [
    "order_information = order_information.repartition(2400,order_information.product_id,order_information.seller_id)"
   ]
  },
  {
   "cell_type": "code",
   "execution_count": 21,
   "metadata": {},
   "outputs": [],
   "source": [
    "products_dataset = products_dataset.repartition(2400,products_dataset.product_id)"
   ]
  },
  {
   "cell_type": "code",
   "execution_count": 22,
   "metadata": {},
   "outputs": [],
   "source": [
    "sellers_dataset = sellers_dataset.repartition(2400,sellers_dataset.seller_id)"
   ]
  },
  {
   "cell_type": "code",
   "execution_count": 23,
   "metadata": {},
   "outputs": [],
   "source": [
    "order_information = order_information.join(products_dataset,(products_dataset.product_id == order_information.product_id),'inner')\\\n",
    "    .join(sellers_dataset,(sellers_dataset.seller_id == order_information.seller_id),'inner')\\\n",
    "    .select(order_information.order_id,\\\n",
    "           order_information.product_id,\\\n",
    "           products_dataset.product_category_name,\\\n",
    "           order_information.seller_id,\\\n",
    "           sellers_dataset.seller_city,\\\n",
    "           order_information.customer_id,\\\n",
    "           order_information.customer_unique_id,\\\n",
    "           order_information.customer_city,\\\n",
    "           order_information.order_purchase_timestamp)"
   ]
  },
  {
   "cell_type": "code",
   "execution_count": 24,
   "metadata": {},
   "outputs": [],
   "source": [
    "order_information.createOrReplaceTempView('order_information')"
   ]
  },
  {
   "cell_type": "code",
   "execution_count": 25,
   "metadata": {},
   "outputs": [],
   "source": [
    "df_order_information = spark.sql(\"\"\"\n",
    "Select order_id,\n",
    "product_id,\n",
    "product_category_name,\n",
    "seller_id,\n",
    "seller_city,\n",
    "customer_id,\n",
    "customer_unique_id,\n",
    "customer_city,\n",
    "from_unixtime(unix_timestamp(order_purchase_timestamp),'yyyyMMdd') as order_purchase_ymd,\n",
    "order_purchase_timestamp\n",
    "from order_information\n",
    "where from_unixtime(unix_timestamp(order_purchase_timestamp),'yyyyMMdd') > {}\n",
    "\"\"\".format(min_date))"
   ]
  },
  {
   "cell_type": "code",
   "execution_count": 27,
   "metadata": {},
   "outputs": [
    {
     "name": "stderr",
     "output_type": "stream",
     "text": [
      "                                                                                \r"
     ]
    },
    {
     "data": {
      "text/plain": [
       "61335"
      ]
     },
     "execution_count": 27,
     "metadata": {},
     "output_type": "execute_result"
    }
   ],
   "source": [
    "df_order_information.count()"
   ]
  },
  {
   "cell_type": "code",
   "execution_count": 69,
   "metadata": {},
   "outputs": [],
   "source": [
    "#df_order_information.toPandas().to_csv(\"destination_data/order_information.csv\", header = True)"
   ]
  }
 ],
 "metadata": {
  "kernelspec": {
   "display_name": "Python 3.9.2 64-bit",
   "language": "python",
   "name": "python3"
  },
  "language_info": {
   "codemirror_mode": {
    "name": "ipython",
    "version": 3
   },
   "file_extension": ".py",
   "mimetype": "text/x-python",
   "name": "python",
   "nbconvert_exporter": "python",
   "pygments_lexer": "ipython3",
   "version": "3.9.2"
  },
  "orig_nbformat": 4,
  "vscode": {
   "interpreter": {
    "hash": "949777d72b0d2535278d3dc13498b2535136f6dfe0678499012e853ee9abcab1"
   }
  }
 },
 "nbformat": 4,
 "nbformat_minor": 2
}
